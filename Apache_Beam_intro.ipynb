{
  "nbformat": 4,
  "nbformat_minor": 0,
  "metadata": {
    "colab": {
      "name": "Apache_Beam_intro.ipynb",
      "provenance": [],
      "collapsed_sections": [],
      "include_colab_link": true
    },
    "kernelspec": {
      "name": "python3",
      "display_name": "Python 3"
    },
    "language_info": {
      "name": "python"
    }
  },
  "cells": [
    {
      "cell_type": "markdown",
      "metadata": {
        "id": "view-in-github",
        "colab_type": "text"
      },
      "source": [
        "<a href=\"https://colab.research.google.com/github/npto04/Apache-beam/blob/main/Apache_Beam_intro.ipynb\" target=\"_parent\"><img src=\"https://colab.research.google.com/assets/colab-badge.svg\" alt=\"Open In Colab\"/></a>"
      ]
    },
    {
      "cell_type": "markdown",
      "source": [
        "##Instalação Bibliotecas"
      ],
      "metadata": {
        "id": "zmFd6fqrGceU"
      }
    },
    {
      "cell_type": "code",
      "execution_count": null,
      "metadata": {
        "id": "C_vKoY_pF3si",
        "colab": {
          "base_uri": "https://localhost:8080/",
          "height": 1000
        },
        "outputId": "9e390fe6-fe9b-4bf3-80c2-4391fc1915bc"
      },
      "outputs": [
        {
          "output_type": "stream",
          "name": "stdout",
          "text": [
            "Collecting apache_beam[interactive]\n",
            "  Downloading apache_beam-2.37.0-cp37-cp37m-manylinux2010_x86_64.whl (10.1 MB)\n",
            "\u001b[K     |████████████████████████████████| 10.1 MB 2.1 MB/s \n",
            "\u001b[?25hRequirement already satisfied: pytz>=2018.3 in /usr/local/lib/python3.7/dist-packages (from apache_beam[interactive]) (2018.9)\n",
            "Collecting requests<3.0.0,>=2.24.0\n",
            "  Downloading requests-2.27.1-py2.py3-none-any.whl (63 kB)\n",
            "\u001b[K     |████████████████████████████████| 63 kB 1.6 MB/s \n",
            "\u001b[?25hRequirement already satisfied: pydot<2,>=1.2.0 in /usr/local/lib/python3.7/dist-packages (from apache_beam[interactive]) (1.3.0)\n",
            "Collecting dill<0.3.2,>=0.3.1.1\n",
            "  Downloading dill-0.3.1.1.tar.gz (151 kB)\n",
            "\u001b[K     |████████████████████████████████| 151 kB 35.1 MB/s \n",
            "\u001b[?25hCollecting pymongo<4.0.0,>=3.8.0\n",
            "  Downloading pymongo-3.12.3-cp37-cp37m-manylinux_2_17_x86_64.manylinux2014_x86_64.whl (508 kB)\n",
            "\u001b[K     |████████████████████████████████| 508 kB 44.9 MB/s \n",
            "\u001b[?25hRequirement already satisfied: numpy<1.22.0,>=1.14.3 in /usr/local/lib/python3.7/dist-packages (from apache_beam[interactive]) (1.21.5)\n",
            "Requirement already satisfied: protobuf<4,>=3.12.2 in /usr/local/lib/python3.7/dist-packages (from apache_beam[interactive]) (3.17.3)\n",
            "Requirement already satisfied: crcmod<2.0,>=1.7 in /usr/local/lib/python3.7/dist-packages (from apache_beam[interactive]) (1.7)\n",
            "Requirement already satisfied: oauth2client<5,>=2.0.1 in /usr/local/lib/python3.7/dist-packages (from apache_beam[interactive]) (4.1.3)\n",
            "Collecting proto-plus<2,>=1.7.1\n",
            "  Downloading proto_plus-1.20.3-py3-none-any.whl (46 kB)\n",
            "\u001b[K     |████████████████████████████████| 46 kB 3.2 MB/s \n",
            "\u001b[?25hRequirement already satisfied: python-dateutil<3,>=2.8.0 in /usr/local/lib/python3.7/dist-packages (from apache_beam[interactive]) (2.8.2)\n",
            "Collecting orjson<4.0\n",
            "  Downloading orjson-3.6.7-cp37-cp37m-manylinux_2_24_x86_64.whl (255 kB)\n",
            "\u001b[K     |████████████████████████████████| 255 kB 39.5 MB/s \n",
            "\u001b[?25hRequirement already satisfied: grpcio<2,>=1.29.0 in /usr/local/lib/python3.7/dist-packages (from apache_beam[interactive]) (1.44.0)\n",
            "Collecting fastavro<2,>=0.23.6\n",
            "  Downloading fastavro-1.4.10-cp37-cp37m-manylinux_2_17_x86_64.manylinux2014_x86_64.whl (2.3 MB)\n",
            "\u001b[K     |████████████████████████████████| 2.3 MB 33.9 MB/s \n",
            "\u001b[?25hCollecting cloudpickle<3,>=2.0.0\n",
            "  Downloading cloudpickle-2.0.0-py3-none-any.whl (25 kB)\n",
            "Requirement already satisfied: httplib2<0.20.0,>=0.8 in /usr/local/lib/python3.7/dist-packages (from apache_beam[interactive]) (0.17.4)\n",
            "Requirement already satisfied: pyarrow<7.0.0,>=0.15.1 in /usr/local/lib/python3.7/dist-packages (from apache_beam[interactive]) (6.0.1)\n",
            "Collecting hdfs<3.0.0,>=2.1.0\n",
            "  Downloading hdfs-2.6.0-py3-none-any.whl (33 kB)\n",
            "Requirement already satisfied: typing-extensions>=3.7.0 in /usr/local/lib/python3.7/dist-packages (from apache_beam[interactive]) (3.10.0.2)\n",
            "Collecting ipykernel<6,>=5.2.0\n",
            "  Downloading ipykernel-5.5.6-py3-none-any.whl (121 kB)\n",
            "\u001b[K     |████████████████████████████████| 121 kB 57.5 MB/s \n",
            "\u001b[?25hCollecting jupyter-client<6.1.13,>=6.1.11\n",
            "  Downloading jupyter_client-6.1.12-py3-none-any.whl (112 kB)\n",
            "\u001b[K     |████████████████████████████████| 112 kB 46.5 MB/s \n",
            "\u001b[?25hCollecting timeloop<2,>=1.0.2\n",
            "  Downloading timeloop-1.0.2.tar.gz (2.9 kB)\n",
            "Collecting ipython<8,>=7\n",
            "  Downloading ipython-7.32.0-py3-none-any.whl (793 kB)\n",
            "\u001b[K     |████████████████████████████████| 793 kB 49.9 MB/s \n",
            "\u001b[?25hRequirement already satisfied: ipywidgets<8,>=7.6.5 in /usr/local/lib/python3.7/dist-packages (from apache_beam[interactive]) (7.7.0)\n",
            "Collecting facets-overview<2,>=1.0.0\n",
            "  Downloading facets_overview-1.0.0-py2.py3-none-any.whl (24 kB)\n",
            "Requirement already satisfied: pandas>=0.22.0 in /usr/local/lib/python3.7/dist-packages (from facets-overview<2,>=1.0.0->apache_beam[interactive]) (1.3.5)\n",
            "Requirement already satisfied: six>=1.5.2 in /usr/local/lib/python3.7/dist-packages (from grpcio<2,>=1.29.0->apache_beam[interactive]) (1.15.0)\n",
            "Requirement already satisfied: docopt in /usr/local/lib/python3.7/dist-packages (from hdfs<3.0.0,>=2.1.0->apache_beam[interactive]) (0.6.2)\n",
            "Requirement already satisfied: tornado>=4.2 in /usr/local/lib/python3.7/dist-packages (from ipykernel<6,>=5.2.0->apache_beam[interactive]) (5.1.1)\n",
            "Requirement already satisfied: ipython-genutils in /usr/local/lib/python3.7/dist-packages (from ipykernel<6,>=5.2.0->apache_beam[interactive]) (0.2.0)\n",
            "Requirement already satisfied: traitlets>=4.1.0 in /usr/local/lib/python3.7/dist-packages (from ipykernel<6,>=5.2.0->apache_beam[interactive]) (5.1.1)\n",
            "Requirement already satisfied: setuptools>=18.5 in /usr/local/lib/python3.7/dist-packages (from ipython<8,>=7->apache_beam[interactive]) (57.4.0)\n",
            "Requirement already satisfied: jedi>=0.16 in /usr/local/lib/python3.7/dist-packages (from ipython<8,>=7->apache_beam[interactive]) (0.18.1)\n",
            "Collecting prompt-toolkit!=3.0.0,!=3.0.1,<3.1.0,>=2.0.0\n",
            "  Downloading prompt_toolkit-3.0.28-py3-none-any.whl (380 kB)\n",
            "\u001b[K     |████████████████████████████████| 380 kB 41.1 MB/s \n",
            "\u001b[?25hRequirement already satisfied: matplotlib-inline in /usr/local/lib/python3.7/dist-packages (from ipython<8,>=7->apache_beam[interactive]) (0.1.3)\n",
            "Requirement already satisfied: pexpect>4.3 in /usr/local/lib/python3.7/dist-packages (from ipython<8,>=7->apache_beam[interactive]) (4.8.0)\n",
            "Requirement already satisfied: pickleshare in /usr/local/lib/python3.7/dist-packages (from ipython<8,>=7->apache_beam[interactive]) (0.7.5)\n",
            "Requirement already satisfied: backcall in /usr/local/lib/python3.7/dist-packages (from ipython<8,>=7->apache_beam[interactive]) (0.2.0)\n",
            "Requirement already satisfied: pygments in /usr/local/lib/python3.7/dist-packages (from ipython<8,>=7->apache_beam[interactive]) (2.6.1)\n",
            "Requirement already satisfied: decorator in /usr/local/lib/python3.7/dist-packages (from ipython<8,>=7->apache_beam[interactive]) (4.4.2)\n",
            "Requirement already satisfied: jupyterlab-widgets>=1.0.0 in /usr/local/lib/python3.7/dist-packages (from ipywidgets<8,>=7.6.5->apache_beam[interactive]) (1.1.0)\n",
            "Requirement already satisfied: widgetsnbextension~=3.6.0 in /usr/local/lib/python3.7/dist-packages (from ipywidgets<8,>=7.6.5->apache_beam[interactive]) (3.6.0)\n",
            "Requirement already satisfied: nbformat>=4.2.0 in /usr/local/lib/python3.7/dist-packages (from ipywidgets<8,>=7.6.5->apache_beam[interactive]) (5.2.0)\n",
            "Requirement already satisfied: parso<0.9.0,>=0.8.0 in /usr/local/lib/python3.7/dist-packages (from jedi>=0.16->ipython<8,>=7->apache_beam[interactive]) (0.8.3)\n",
            "Requirement already satisfied: jupyter-core>=4.6.0 in /usr/local/lib/python3.7/dist-packages (from jupyter-client<6.1.13,>=6.1.11->apache_beam[interactive]) (4.9.2)\n",
            "Requirement already satisfied: pyzmq>=13 in /usr/local/lib/python3.7/dist-packages (from jupyter-client<6.1.13,>=6.1.11->apache_beam[interactive]) (22.3.0)\n",
            "Requirement already satisfied: jsonschema!=2.5.0,>=2.4 in /usr/local/lib/python3.7/dist-packages (from nbformat>=4.2.0->ipywidgets<8,>=7.6.5->apache_beam[interactive]) (4.3.3)\n",
            "Requirement already satisfied: importlib-resources>=1.4.0 in /usr/local/lib/python3.7/dist-packages (from jsonschema!=2.5.0,>=2.4->nbformat>=4.2.0->ipywidgets<8,>=7.6.5->apache_beam[interactive]) (5.4.0)\n",
            "Requirement already satisfied: importlib-metadata in /usr/local/lib/python3.7/dist-packages (from jsonschema!=2.5.0,>=2.4->nbformat>=4.2.0->ipywidgets<8,>=7.6.5->apache_beam[interactive]) (4.11.3)\n",
            "Requirement already satisfied: pyrsistent!=0.17.0,!=0.17.1,!=0.17.2,>=0.14.0 in /usr/local/lib/python3.7/dist-packages (from jsonschema!=2.5.0,>=2.4->nbformat>=4.2.0->ipywidgets<8,>=7.6.5->apache_beam[interactive]) (0.18.1)\n",
            "Requirement already satisfied: attrs>=17.4.0 in /usr/local/lib/python3.7/dist-packages (from jsonschema!=2.5.0,>=2.4->nbformat>=4.2.0->ipywidgets<8,>=7.6.5->apache_beam[interactive]) (21.4.0)\n",
            "Requirement already satisfied: zipp>=3.1.0 in /usr/local/lib/python3.7/dist-packages (from importlib-resources>=1.4.0->jsonschema!=2.5.0,>=2.4->nbformat>=4.2.0->ipywidgets<8,>=7.6.5->apache_beam[interactive]) (3.7.0)\n",
            "Requirement already satisfied: pyasn1-modules>=0.0.5 in /usr/local/lib/python3.7/dist-packages (from oauth2client<5,>=2.0.1->apache_beam[interactive]) (0.2.8)\n",
            "Requirement already satisfied: pyasn1>=0.1.7 in /usr/local/lib/python3.7/dist-packages (from oauth2client<5,>=2.0.1->apache_beam[interactive]) (0.4.8)\n",
            "Requirement already satisfied: rsa>=3.1.4 in /usr/local/lib/python3.7/dist-packages (from oauth2client<5,>=2.0.1->apache_beam[interactive]) (4.8)\n",
            "Requirement already satisfied: ptyprocess>=0.5 in /usr/local/lib/python3.7/dist-packages (from pexpect>4.3->ipython<8,>=7->apache_beam[interactive]) (0.7.0)\n",
            "Requirement already satisfied: wcwidth in /usr/local/lib/python3.7/dist-packages (from prompt-toolkit!=3.0.0,!=3.0.1,<3.1.0,>=2.0.0->ipython<8,>=7->apache_beam[interactive]) (0.2.5)\n",
            "Collecting protobuf<4,>=3.12.2\n",
            "  Downloading protobuf-3.19.4-cp37-cp37m-manylinux_2_17_x86_64.manylinux2014_x86_64.whl (1.1 MB)\n",
            "\u001b[K     |████████████████████████████████| 1.1 MB 44.6 MB/s \n",
            "\u001b[?25hRequirement already satisfied: pyparsing>=2.1.4 in /usr/local/lib/python3.7/dist-packages (from pydot<2,>=1.2.0->apache_beam[interactive]) (3.0.7)\n",
            "Requirement already satisfied: idna<4,>=2.5 in /usr/local/lib/python3.7/dist-packages (from requests<3.0.0,>=2.24.0->apache_beam[interactive]) (2.10)\n",
            "Requirement already satisfied: urllib3<1.27,>=1.21.1 in /usr/local/lib/python3.7/dist-packages (from requests<3.0.0,>=2.24.0->apache_beam[interactive]) (1.24.3)\n",
            "Requirement already satisfied: charset-normalizer~=2.0.0 in /usr/local/lib/python3.7/dist-packages (from requests<3.0.0,>=2.24.0->apache_beam[interactive]) (2.0.12)\n",
            "Requirement already satisfied: certifi>=2017.4.17 in /usr/local/lib/python3.7/dist-packages (from requests<3.0.0,>=2.24.0->apache_beam[interactive]) (2021.10.8)\n",
            "Requirement already satisfied: notebook>=4.4.1 in /usr/local/lib/python3.7/dist-packages (from widgetsnbextension~=3.6.0->ipywidgets<8,>=7.6.5->apache_beam[interactive]) (5.3.1)\n",
            "Requirement already satisfied: Send2Trash in /usr/local/lib/python3.7/dist-packages (from notebook>=4.4.1->widgetsnbextension~=3.6.0->ipywidgets<8,>=7.6.5->apache_beam[interactive]) (1.8.0)\n",
            "Requirement already satisfied: nbconvert in /usr/local/lib/python3.7/dist-packages (from notebook>=4.4.1->widgetsnbextension~=3.6.0->ipywidgets<8,>=7.6.5->apache_beam[interactive]) (5.6.1)\n",
            "Requirement already satisfied: jinja2 in /usr/local/lib/python3.7/dist-packages (from notebook>=4.4.1->widgetsnbextension~=3.6.0->ipywidgets<8,>=7.6.5->apache_beam[interactive]) (2.11.3)\n",
            "Requirement already satisfied: terminado>=0.8.1 in /usr/local/lib/python3.7/dist-packages (from notebook>=4.4.1->widgetsnbextension~=3.6.0->ipywidgets<8,>=7.6.5->apache_beam[interactive]) (0.13.3)\n",
            "Requirement already satisfied: MarkupSafe>=0.23 in /usr/local/lib/python3.7/dist-packages (from jinja2->notebook>=4.4.1->widgetsnbextension~=3.6.0->ipywidgets<8,>=7.6.5->apache_beam[interactive]) (2.0.1)\n",
            "Requirement already satisfied: bleach in /usr/local/lib/python3.7/dist-packages (from nbconvert->notebook>=4.4.1->widgetsnbextension~=3.6.0->ipywidgets<8,>=7.6.5->apache_beam[interactive]) (4.1.0)\n",
            "Requirement already satisfied: mistune<2,>=0.8.1 in /usr/local/lib/python3.7/dist-packages (from nbconvert->notebook>=4.4.1->widgetsnbextension~=3.6.0->ipywidgets<8,>=7.6.5->apache_beam[interactive]) (0.8.4)\n",
            "Requirement already satisfied: defusedxml in /usr/local/lib/python3.7/dist-packages (from nbconvert->notebook>=4.4.1->widgetsnbextension~=3.6.0->ipywidgets<8,>=7.6.5->apache_beam[interactive]) (0.7.1)\n",
            "Requirement already satisfied: entrypoints>=0.2.2 in /usr/local/lib/python3.7/dist-packages (from nbconvert->notebook>=4.4.1->widgetsnbextension~=3.6.0->ipywidgets<8,>=7.6.5->apache_beam[interactive]) (0.4)\n",
            "Requirement already satisfied: pandocfilters>=1.4.1 in /usr/local/lib/python3.7/dist-packages (from nbconvert->notebook>=4.4.1->widgetsnbextension~=3.6.0->ipywidgets<8,>=7.6.5->apache_beam[interactive]) (1.5.0)\n",
            "Requirement already satisfied: testpath in /usr/local/lib/python3.7/dist-packages (from nbconvert->notebook>=4.4.1->widgetsnbextension~=3.6.0->ipywidgets<8,>=7.6.5->apache_beam[interactive]) (0.6.0)\n",
            "Requirement already satisfied: webencodings in /usr/local/lib/python3.7/dist-packages (from bleach->nbconvert->notebook>=4.4.1->widgetsnbextension~=3.6.0->ipywidgets<8,>=7.6.5->apache_beam[interactive]) (0.5.1)\n",
            "Requirement already satisfied: packaging in /usr/local/lib/python3.7/dist-packages (from bleach->nbconvert->notebook>=4.4.1->widgetsnbextension~=3.6.0->ipywidgets<8,>=7.6.5->apache_beam[interactive]) (21.3)\n",
            "Building wheels for collected packages: dill, timeloop\n",
            "  Building wheel for dill (setup.py) ... \u001b[?25l\u001b[?25hdone\n",
            "  Created wheel for dill: filename=dill-0.3.1.1-py3-none-any.whl size=78544 sha256=09144ee5a7ece362222eacab43ce43e069e02547f25546befe104fee88d4e508\n",
            "  Stored in directory: /root/.cache/pip/wheels/a4/61/fd/c57e374e580aa78a45ed78d5859b3a44436af17e22ca53284f\n",
            "  Building wheel for timeloop (setup.py) ... \u001b[?25l\u001b[?25hdone\n",
            "  Created wheel for timeloop: filename=timeloop-1.0.2-py3-none-any.whl size=3720 sha256=10c833fa93b8c421cf571cf1e82164b6d507c0d317084f0ad56c6fabf838739c\n",
            "  Stored in directory: /root/.cache/pip/wheels/3a/7e/fc/5e4d6da12b9ab6550604412936723ec6f2faf7391dd6726a01\n",
            "Successfully built dill timeloop\n",
            "Installing collected packages: prompt-toolkit, jupyter-client, ipython, ipykernel, requests, protobuf, pymongo, proto-plus, orjson, hdfs, fastavro, dill, cloudpickle, timeloop, facets-overview, apache-beam\n",
            "  Attempting uninstall: prompt-toolkit\n",
            "    Found existing installation: prompt-toolkit 1.0.18\n",
            "    Uninstalling prompt-toolkit-1.0.18:\n",
            "      Successfully uninstalled prompt-toolkit-1.0.18\n",
            "  Attempting uninstall: jupyter-client\n",
            "    Found existing installation: jupyter-client 5.3.5\n",
            "    Uninstalling jupyter-client-5.3.5:\n",
            "      Successfully uninstalled jupyter-client-5.3.5\n",
            "  Attempting uninstall: ipython\n",
            "    Found existing installation: ipython 5.5.0\n",
            "    Uninstalling ipython-5.5.0:\n",
            "      Successfully uninstalled ipython-5.5.0\n",
            "  Attempting uninstall: ipykernel\n",
            "    Found existing installation: ipykernel 4.10.1\n",
            "    Uninstalling ipykernel-4.10.1:\n",
            "      Successfully uninstalled ipykernel-4.10.1\n",
            "  Attempting uninstall: requests\n",
            "    Found existing installation: requests 2.23.0\n",
            "    Uninstalling requests-2.23.0:\n",
            "      Successfully uninstalled requests-2.23.0\n",
            "  Attempting uninstall: protobuf\n",
            "    Found existing installation: protobuf 3.17.3\n",
            "    Uninstalling protobuf-3.17.3:\n",
            "      Successfully uninstalled protobuf-3.17.3\n",
            "  Attempting uninstall: pymongo\n",
            "    Found existing installation: pymongo 4.0.2\n",
            "    Uninstalling pymongo-4.0.2:\n",
            "      Successfully uninstalled pymongo-4.0.2\n",
            "  Attempting uninstall: dill\n",
            "    Found existing installation: dill 0.3.4\n",
            "    Uninstalling dill-0.3.4:\n",
            "      Successfully uninstalled dill-0.3.4\n",
            "  Attempting uninstall: cloudpickle\n",
            "    Found existing installation: cloudpickle 1.3.0\n",
            "    Uninstalling cloudpickle-1.3.0:\n",
            "      Successfully uninstalled cloudpickle-1.3.0\n",
            "\u001b[31mERROR: pip's dependency resolver does not currently take into account all the packages that are installed. This behaviour is the source of the following dependency conflicts.\n",
            "tensorflow 2.8.0 requires tf-estimator-nightly==2.8.0.dev2021122109, which is not installed.\n",
            "multiprocess 0.70.12.2 requires dill>=0.3.4, but you have dill 0.3.1.1 which is incompatible.\n",
            "jupyter-console 5.2.0 requires prompt-toolkit<2.0.0,>=1.0.0, but you have prompt-toolkit 3.0.28 which is incompatible.\n",
            "gym 0.17.3 requires cloudpickle<1.7.0,>=1.2.0, but you have cloudpickle 2.0.0 which is incompatible.\n",
            "google-colab 1.0.0 requires ipykernel~=4.10, but you have ipykernel 5.5.6 which is incompatible.\n",
            "google-colab 1.0.0 requires ipython~=5.5.0, but you have ipython 7.32.0 which is incompatible.\n",
            "google-colab 1.0.0 requires requests~=2.23.0, but you have requests 2.27.1 which is incompatible.\n",
            "datascience 0.10.6 requires folium==0.2.1, but you have folium 0.8.3 which is incompatible.\u001b[0m\n",
            "Successfully installed apache-beam-2.37.0 cloudpickle-2.0.0 dill-0.3.1.1 facets-overview-1.0.0 fastavro-1.4.10 hdfs-2.6.0 ipykernel-5.5.6 ipython-7.32.0 jupyter-client-6.1.12 orjson-3.6.7 prompt-toolkit-3.0.28 proto-plus-1.20.3 protobuf-3.19.4 pymongo-3.12.3 requests-2.27.1 timeloop-1.0.2\n"
          ]
        },
        {
          "output_type": "display_data",
          "data": {
            "application/vnd.colab-display-data+json": {
              "pip_warning": {
                "packages": [
                  "IPython",
                  "google",
                  "ipykernel",
                  "jupyter_client",
                  "prompt_toolkit"
                ]
              }
            }
          },
          "metadata": {}
        }
      ],
      "source": [
        "pip install apache_beam[interactive]"
      ]
    },
    {
      "cell_type": "markdown",
      "source": [
        "#Import Bibli."
      ],
      "metadata": {
        "id": "Oy87nMcGHd1Z"
      }
    },
    {
      "cell_type": "code",
      "source": [
        "import apache_beam as beam"
      ],
      "metadata": {
        "id": "EmpMSC-nHiAg"
      },
      "execution_count": null,
      "outputs": []
    },
    {
      "cell_type": "markdown",
      "source": [
        "## Abrir arquivos e gravar"
      ],
      "metadata": {
        "id": "QY9Vp8-GHwZC"
      }
    },
    {
      "cell_type": "code",
      "source": [
        "import apache_beam as beam\n",
        "\n",
        "p1 = beam.Pipeline()\n",
        "\n",
        "voos = (\n",
        "    p1\n",
        "    |'Abrir o arquivo' >> beam.io.ReadFromText('/content/voos_sample (1).csv', skip_header_lines= 0)\n",
        "    |'Separar por virgula' >> beam.Map(lambda record: record.split(','))\n",
        "    |'Exibir resultado' >> beam.Map(print)\n",
        "    #|'Gravar o resultado' >> beam.io.WriteToText('saida.txt')\n",
        "    \n",
        "\n",
        ")\n",
        "p1.run()"
      ],
      "metadata": {
        "id": "i4QOSJTUHz5q",
        "colab": {
          "base_uri": "https://localhost:8080/"
        },
        "outputId": "7c2f37c7-90f5-4176-a69a-b31ae09468f8"
      },
      "execution_count": null,
      "outputs": [
        {
          "output_type": "stream",
          "name": "stderr",
          "text": [
            "WARNING:root:Make sure that locally built Python SDK docker image has Python 3.7 interpreter.\n"
          ]
        },
        {
          "output_type": "stream",
          "name": "stdout",
          "text": [
            "['2019-04-27', '19805', '1', 'JFK', 'LAX', '854', '-6', '1217', '2', '355', '2475', '1']\n",
            "['2019-04-27', '19805', '2', 'LAX', 'JFK', '944', '14', '1736', '-29', '269', '2475', '2']\n",
            "['2019-04-27', '19805', '3', 'JFK', 'LAX', '1224', '-6', '1614', '39', '371', '2475', '3']\n",
            "['2019-04-27', '19805', '4', 'LAX', 'JFK', '1240', '25', '2028', '-27', '264', '2475', '4']\n",
            "['2019-04-27', '19805', '5', 'DFW', 'HNL', '1300', '-5', '1650', '15', '510', '3784', '5']\n",
            "['2019-04-27', '19805', '6', 'OGG', 'DFW', '1901', '126', '640', '95', '385', '3711', '6']\n",
            "['2019-04-27', '19805', '7', 'DFW', 'OGG', '1410', '125', '1743', '138', '497', '3711', '7']\n",
            "['2019-04-27', '19805', '8', 'HNL', 'DFW', '1659', '4', '458', '-22', '398', '3784', '8']\n",
            "['2019-04-27', '19805', '9', 'JFK', 'LAX', '648', '-7', '1029', '19', '365', '2475', '9']\n",
            "['2019-04-27', '19805', '10', 'LAX', 'JFK', '2156', '21', '556', '1', '265', '2475', '10']\n",
            "['2019-04-27', '19805', '12', 'LAX', 'JFK', '1113', '-2', '1910', '-40', '267', '2475', '11']\n",
            "['2019-04-27', '19805', '14', 'OGG', 'LAX', '2235', '5', '618', '-17', '270', '2486', '12']\n",
            "['2019-04-27', '19805', '15', 'BOS', 'ORD', '611', '-9', '756', '-19', '129', '867', '13']\n",
            "['2019-04-27', '19805', '16', 'SFO', 'JFK', '1312', '17', '2107', '-33', '268', '2586', '14']\n",
            "['2019-04-27', '19805', '17', 'ATL', 'MIA', '630', '-5', '813', '-17', '83', '594', '15']\n",
            "['2019-04-27', '19805', '18', 'SFO', 'JFK', '22', '112', '833', '88', '288', '2586', '16']\n",
            "['2019-04-27', '19805', '19', 'JFK', 'LAX', '1024', '-6', '1353', '18', '359', '2475', '17']\n",
            "['2019-04-27', '19805', '20', 'SFO', 'JFK', '1715', '135', '130', '120', '277', '2586', '18']\n",
            "['2019-04-27', '19805', '21', 'JFK', 'LAX', '1906', '-4', '2246', '16', '359', '2475', '19']\n",
            "['2019-04-27', '19805', '22', 'LAX', 'JFK', '1458', '-2', '2336', '11', '272', '2475', '20']\n"
          ]
        },
        {
          "output_type": "execute_result",
          "data": {
            "text/plain": [
              "<apache_beam.runners.portability.fn_api_runner.fn_runner.RunnerResult at 0x7f4bec1eef90>"
            ]
          },
          "metadata": {},
          "execution_count": 18
        }
      ]
    },
    {
      "cell_type": "code",
      "source": [
        "import apache_beam as beam\n",
        "\n",
        "p1 = beam.Pipeline()\n",
        "\n",
        "voos = (\n",
        "    p1\n",
        "    |'Abrir o arquivo' >> beam.io.ReadFromText('/content/texto.txt', skip_header_lines= 0)\n",
        "    |'Separador' >> beam.FlatMap(lambda record: record.split(' '))\n",
        "    |'Exibir resultado' >> beam.FlatMap(print)\n",
        "    #|'Gravar o resultado' >> beam.io.WriteToText('saida.txt')\n",
        "    \n",
        "\n",
        ")\n",
        "p1.run()"
      ],
      "metadata": {
        "id": "gknqh5NxDlva"
      },
      "execution_count": null,
      "outputs": []
    },
    {
      "cell_type": "markdown",
      "source": [
        "##Filtros"
      ],
      "metadata": {
        "id": "fl9vdB_7ZGi9"
      }
    },
    {
      "cell_type": "code",
      "source": [
        "#Filtro com Map\n",
        "import apache_beam as beam\n",
        "\n",
        "p1 = beam.Pipeline()\n",
        "\n",
        "voos = (\n",
        "    p1\n",
        "    |'Abrir o arquivo' >> beam.io.ReadFromText('/content/voos_sample (1).csv', skip_header_lines= 0)\n",
        "    |'Separar por virgula' >> beam.Map(lambda record: record.split(','))\n",
        "    |'Filtrar Aero São francisco' >> beam.Filter(lambda record: record[3] == 'SFO')\n",
        "    |'Exibir resultado' >> beam.Map(print)\n",
        "    #|'Gravar o resultado' >> beam.io.WriteToText('saida.txt')\n",
        "    \n",
        "\n",
        ")\n",
        "p1.run()"
      ],
      "metadata": {
        "colab": {
          "base_uri": "https://localhost:8080/"
        },
        "id": "__ZE2XzdZQDD",
        "outputId": "f24982cb-a3fc-47ea-a244-ce5d2d51605e"
      },
      "execution_count": null,
      "outputs": [
        {
          "output_type": "stream",
          "name": "stderr",
          "text": [
            "WARNING:root:Make sure that locally built Python SDK docker image has Python 3.7 interpreter.\n"
          ]
        },
        {
          "output_type": "stream",
          "name": "stdout",
          "text": [
            "['2019-04-27', '19805', '16', 'SFO', 'JFK', '1312', '17', '2107', '-33', '268', '2586', '14']\n",
            "['2019-04-27', '19805', '18', 'SFO', 'JFK', '22', '112', '833', '88', '288', '2586', '16']\n",
            "['2019-04-27', '19805', '20', 'SFO', 'JFK', '1715', '135', '130', '120', '277', '2586', '18']\n"
          ]
        },
        {
          "output_type": "execute_result",
          "data": {
            "text/plain": [
              "<apache_beam.runners.portability.fn_api_runner.fn_runner.RunnerResult at 0x7f4be78d5790>"
            ]
          },
          "metadata": {},
          "execution_count": 25
        }
      ]
    },
    {
      "cell_type": "code",
      "source": [
        "#Filtro com FlatMap\n",
        "import apache_beam as beam\n",
        "\n",
        "buscapal = ['mas','Quero','amor']\n",
        "\n",
        "def procurarPalavras(i):\n",
        "  if i in buscapal:\n",
        "    return True \n",
        "\n",
        "p1 = beam.Pipeline()\n",
        "\n",
        "voos = (\n",
        "    p1\n",
        "    |'Abrir o arquivo' >> beam.io.ReadFromText('/content/texto.txt', skip_header_lines= 0)\n",
        "    |'Separador' >> beam.FlatMap(lambda record: record.split(' '))\n",
        "    |'Filtro Palavras' >> beam.Filter(procurarPalavras)\n",
        "    |'Exibir resultado' >> beam.FlatMap(print)\n",
        "    #|'Gravar o resultado' >> beam.io.WriteToText('saida.txt')\n",
        "    \n",
        "\n",
        ")\n",
        "p1.run()"
      ],
      "metadata": {
        "id": "0vWGyUsm5UX9"
      },
      "execution_count": null,
      "outputs": []
    },
    {
      "cell_type": "markdown",
      "source": [
        "##Combinações "
      ],
      "metadata": {
        "id": "-S_3X0DefL8R"
      }
    },
    {
      "cell_type": "code",
      "source": [
        "import apache_beam as beam\n",
        "\n",
        "p1 = beam.Pipeline()\n",
        "\n",
        "voos = (\n",
        "    p1\n",
        "    |'Abrir o arquivo' >> beam.io.ReadFromText('/content/voos_sample (1).csv', skip_header_lines= 0)\n",
        "    |'Separar por virgula' >> beam.Map(lambda record: record.split(','))\n",
        "    |'Filtrar Aero São francisco' >> beam.Filter(lambda record: record[3] == 'SFO')\n",
        "    |'Exibir resultado' >> beam.Map(print)\n",
        "    #|'Gravar o resultado' >> beam.io.WriteToText('saida.txt')\n",
        "    \n",
        "\n",
        ")\n",
        "p1.run()"
      ],
      "metadata": {
        "id": "QlClS2uifPDC"
      },
      "execution_count": null,
      "outputs": []
    },
    {
      "cell_type": "code",
      "source": [
        "import apache_beam as beam\n",
        "\n",
        "p1 = beam.Pipeline()\n",
        "\n",
        "voos = (\n",
        "    p1\n",
        "    |'Abrir o arquivo' >> beam.io.ReadFromText('/content/voos_sample (1).csv', skip_header_lines= 0)\n",
        "    |'Separar por virgula' >> beam.Map(lambda record: record.split(','))\n",
        "    |'Filtrar voos atrasados' >> beam.Filter(lambda record: int(record[6])>0)\n",
        "    |'Agregar as colunas' >> beam.Map(lambda record: (record[3],int(record[6])))\n",
        "    |'Construir novo resultado' >> beam.CombinePerKey(sum)\n",
        "    |'Exibir resultado' >> beam.Map(print)\n",
        "    #|'Gravar o resultado' >> beam.io.WriteToText('saida.txt')\n",
        "\n",
        ")\n",
        "p1.run()"
      ],
      "metadata": {
        "id": "W2iKZNWLPqae",
        "colab": {
          "base_uri": "https://localhost:8080/"
        },
        "outputId": "f4d75145-d728-4b49-b29a-b29cb162d8be"
      },
      "execution_count": null,
      "outputs": [
        {
          "output_type": "stream",
          "name": "stderr",
          "text": [
            "WARNING:root:Make sure that locally built Python SDK docker image has Python 3.7 interpreter.\n"
          ]
        },
        {
          "output_type": "stream",
          "name": "stdout",
          "text": [
            "('LAX', 60)\n",
            "('OGG', 131)\n",
            "('DFW', 125)\n",
            "('HNL', 4)\n",
            "('SFO', 264)\n"
          ]
        },
        {
          "output_type": "execute_result",
          "data": {
            "text/plain": [
              "<apache_beam.runners.portability.fn_api_runner.fn_runner.RunnerResult at 0x7fb1f36f9950>"
            ]
          },
          "metadata": {},
          "execution_count": 3
        }
      ]
    },
    {
      "cell_type": "code",
      "source": [
        "import apache_beam as beam\n",
        "\n",
        "p1 = beam.Pipeline()\n",
        "\n",
        "voos = (\n",
        "    p1\n",
        "    |'Abrir o arquivo' >> beam.io.ReadFromText('/content/voos_sample (1).csv', skip_header_lines= 0)\n",
        "    |'Separar por virgula' >> beam.Map(lambda record: record.split(','))\n",
        "    |'Filtrar voos atrasados' >> beam.Filter(lambda record: int(record[6])>0)\n",
        "    |'Agregar as colunas' >> beam.Map(lambda record: (record[3],int(record[6])))\n",
        "    |'Exibir resultado' >> beam.Map(print)\n",
        "    #|'Gravar o resultado' >> beam.io.WriteToText('saida.txt')\n",
        "\n",
        ")\n",
        "p1.run()"
      ],
      "metadata": {
        "id": "P12Aje_mqxT2"
      },
      "execution_count": null,
      "outputs": []
    },
    {
      "cell_type": "code",
      "source": [
        "import apache_beam as beam\n",
        "\n",
        "p1 = beam.Pipeline()\n",
        "\n",
        "voos = (\n",
        "    p1\n",
        "    |'Abrir o arquivo' >> beam.io.ReadFromText('/content/voos_sample (1).csv', skip_header_lines= 0)\n",
        "    |'Separar por virgula' >> beam.Map(lambda record: record.split(','))\n",
        "    |'Filtrar voos atrasados' >> beam.Filter(lambda record: int(record[6])>0)\n",
        "    |'Agregar as colunas' >> beam.Map(lambda record: (record[3],int(record[6])))\n",
        "    |'Construir novo resultado' >> beam.CombinePerKey(sum)\n",
        "    |'Exibir resultado' >> beam.Map(print)\n",
        "    #|'Gravar o resultado' >> beam.io.WriteToText('saida.txt')\n",
        "    \n",
        "\n",
        ")\n",
        "p1.run()"
      ],
      "metadata": {
        "id": "E8B_2VORtUiZ"
      },
      "execution_count": null,
      "outputs": []
    },
    {
      "cell_type": "code",
      "source": [
        "import apache_beam as beam\n",
        "\n",
        "p1 = beam.Pipeline()\n",
        "\n",
        "voos = (\n",
        "    p1\n",
        "    |'Abrir o arquivo' >> beam.io.ReadFromText('/content/voos_sample (1).csv', skip_header_lines= 0)\n",
        "    |'Separar por virgula' >> beam.Map(lambda record: record.split(','))\n",
        "    |'Filtrar voos atrasados' >> beam.Filter(lambda record: int(record[6])>0)\n",
        "    |'Agregar as colunas' >> beam.Map(lambda record: (record[3],int(record[6])))\n",
        "    |'Quantida de ocorrencias' >> beam.combiners.Count.PerKey()\n",
        "    |'Exibir resultado' >> beam.Map(print)\n",
        "    #|'Gravar o resultado' >> beam.io.WriteToText('saida.txt')\n",
        "    \n",
        "\n",
        ")\n",
        "p1.run()"
      ],
      "metadata": {
        "id": "TOZtsErItOiU"
      },
      "execution_count": null,
      "outputs": []
    },
    {
      "cell_type": "markdown",
      "source": [
        "##Co Group key\n",
        "Agregação criando novas tabelas"
      ],
      "metadata": {
        "id": "w36PHvUWuCpz"
      }
    },
    {
      "cell_type": "code",
      "source": [
        "import apache_beam as beam\n",
        "\n",
        "p1 = beam.Pipeline()\n",
        "\n",
        "Qtd_tempo = (\n",
        "    p1\n",
        "    |'Abrir o arquivo' >> beam.io.ReadFromText('/content/voos_sample (1).csv', skip_header_lines= 0)\n",
        "    |'Separar por virgula' >> beam.Map(lambda record: record.split(','))\n",
        "    |'Filtrar voos atrasados' >> beam.Filter(lambda record: int(record[6])>0)\n",
        "    |'Agregar as colunas' >> beam.Map(lambda record: (record[3],int(record[6])))\n",
        "    |'Construir novo resultado' >> beam.CombinePerKey(sum)\n",
        "    #|'Exibir resultado' >> beam.Map(print)\n",
        "    #|'Gravar o resultado' >> beam.io.WriteToText('saida.txt')\n",
        "    \n",
        ")\n",
        "Qte_freq = (\n",
        "    p1\n",
        "    |'1Abrir o arquivo' >> beam.io.ReadFromText('/content/voos_sample (1).csv', skip_header_lines= 0)\n",
        "    |'1Separar por virgula' >> beam.Map(lambda record: record.split(','))\n",
        "    |'1Filtrar voos atrasados' >> beam.Filter(lambda record: int(record[6])>0)\n",
        "    |'1Agregar as colunas' >> beam.Map(lambda record: (record[3],int(record[6])))\n",
        "    |'1Quantidade de ocorrencias' >> beam.combiners.Count.PerKey()\n",
        "    #|'Exibir resultado' >> beam.Map(print)\n",
        "    #|'Gravar o resultado' >> beam.io.WriteToText('saida.txt')\n",
        "    \n",
        ")\n",
        "\n",
        "tabela = (\n",
        "    {'Quantidade_atra':Qte_freq,'Tempo_atra':Qtd_tempo}\n",
        "    |'Agrupando as pernas' >> beam.CoGroupByKey()\n",
        "    |'Resultado' >> beam.Map(print)\n",
        "    #|'Saida Definitiva' >> beam.io.WriteToText('saida_table.txt')\n",
        "    \n",
        ")\n",
        "p1.run()\n"
      ],
      "metadata": {
        "id": "g1HvGvTR3Nzh"
      },
      "execution_count": null,
      "outputs": []
    },
    {
      "cell_type": "markdown",
      "source": [
        "# GCP"
      ],
      "metadata": {
        "id": "asqB7_o2OptJ"
      }
    },
    {
      "cell_type": "code",
      "source": [
        "import apache_beam as beam\n",
        "import os\n",
        "\n",
        "serviceAccount = r'/content/etl-bc12-57fc664f5889.json'\n",
        "os.environ[\"GOOGLE_APPLICATION_CREDENTIALS\"] = serviceAccount\n",
        "\n",
        "p1 = beam.Pipeline()\n",
        "\n",
        "Qtd_tempo = (\n",
        "    p1\n",
        "    |'Abrir o arquivo' >> beam.io.ReadFromText('/content/voos_sample (1).csv', skip_header_lines= 0)\n",
        "    |'Separar por virgula' >> beam.Map(lambda record: record.split(','))\n",
        "    |'Filtrar voos atrasados' >> beam.Filter(lambda record: int(record[6])>0)\n",
        "    |'Agregar as colunas' >> beam.Map(lambda record: (record[3],int(record[6])))\n",
        "    |'Construir novo resultado' >> beam.CombinePerKey(sum)\n",
        "    #|'Exibir resultado' >> beam.Map(print)\n",
        "    #|'Gravar o resultado' >> beam.io.WriteToText('saida.txt')\n",
        "    \n",
        ")\n",
        "Qte_freq = (\n",
        "    p1\n",
        "    |'1Abrir o arquivo' >> beam.io.ReadFromText('/content/voos_sample (1).csv', skip_header_lines= 0)\n",
        "    |'1Separar por virgula' >> beam.Map(lambda record: record.split(','))\n",
        "    |'1Filtrar voos atrasados' >> beam.Filter(lambda record: int(record[6])>0)\n",
        "    |'1Agregar as colunas' >> beam.Map(lambda record: (record[3],int(record[6])))\n",
        "    |'1Quantidade de ocorrencias' >> beam.combiners.Count.PerKey()\n",
        "    #|'Exibir resultado' >> beam.Map(print)\n",
        "    #|'Gravar o resultado' >> beam.io.WriteToText('saida.txt')\n",
        "    \n",
        ")\n",
        "\n",
        "tabela = (\n",
        "    {'Quantidade_atra':Qte_freq,'Tempo_atra':Qtd_tempo}\n",
        "    |'Agrupando as pernas' >> beam.CoGroupByKey()\n",
        "    #|'Resultado' >> beam.Map(print)\n",
        "    |'Saida Definitiva' >> beam.io.WriteToText(r'gs://dados_brutos_soulcode/saidaflow/teste.csv')\n",
        "    \n",
        ")\n",
        "p1.run()"
      ],
      "metadata": {
        "id": "R8_fx_J6O6i-"
      },
      "execution_count": null,
      "outputs": []
    },
    {
      "cell_type": "code",
      "source": [
        "#Criar modelo do DataFlow\n",
        "import apache_beam as beam\n",
        "import os\n",
        "from apache_beam.options.pipeline_options import PipelineOptions\n",
        "\n",
        "pipeline_options = {\n",
        "    'project': 'etl-bc12',\n",
        "    'runner': 'DataflowRunner',\n",
        "    'region': 'southamerica-east1',\n",
        "    'staging_location': 'gs://dados_brutos_soulcode/stage',\n",
        "    'temp_location': 'gs://dados_brutos_soulcode/stage',\n",
        "    'template_location': 'gs://dados_brutos_soulcode/model/modelo_batch_voos'\n",
        "}\n",
        "serviceAccount = r'/content/etl-bc12-57fc664f5889.json'\n",
        "os.environ[\"GOOGLE_APPLICATION_CREDENTIALS\"] = serviceAccount\n",
        "\n",
        "pipeline_options = PipelineOptions.from_dictionary(pipeline_options)\n",
        "\n",
        "\n",
        "p1 = beam.Pipeline(options=pipeline_options)\n",
        "\n",
        "Qtd_tempo = (\n",
        "    p1\n",
        "    |'Abrir o arquivo' >> beam.io.ReadFromText('gs://dados_brutos_soulcode/voos_sample (1).csv', skip_header_lines= 0)\n",
        "    |'Separar por virgula' >> beam.Map(lambda record: record.split(','))\n",
        "    |'Filtrar voos atrasados' >> beam.Filter(lambda record: int(record[6])>0)\n",
        "    |'Agregar as colunas' >> beam.Map(lambda record: (record[3],int(record[6])))\n",
        "    |'Construir novo resultado' >> beam.CombinePerKey(sum)\n",
        "    #|'Exibir resultado' >> beam.Map(print)\n",
        "    #|'Gravar o resultado' >> beam.io.WriteToText('saida.txt')\n",
        "    \n",
        ")\n",
        "Qte_freq = (\n",
        "    p1\n",
        "    |'1Abrir o arquivo' >> beam.io.ReadFromText('gs://dados_brutos_soulcode/voos_sample (1).csv', skip_header_lines= 0)\n",
        "    |'1Separar por virgula' >> beam.Map(lambda record: record.split(','))\n",
        "    |'1Filtrar voos atrasados' >> beam.Filter(lambda record: int(record[6])>0)\n",
        "    |'1Agregar as colunas' >> beam.Map(lambda record: (record[3],int(record[6])))\n",
        "    |'1Quantidade de ocorrencias' >> beam.combiners.Count.PerKey()\n",
        "    #|'Exibir resultado' >> beam.Map(print)\n",
        "    #|'Gravar o resultado' >> beam.io.WriteToText('saida.txt')\n",
        "    \n",
        ")\n",
        "\n",
        "tabela = (\n",
        "    {'Quantidade_atra':Qte_freq,'Tempo_atra':Qtd_tempo}\n",
        "    |'Agrupando as pernas' >> beam.CoGroupByKey()\n",
        "    #|'Resultado' >> beam.Map(print)\n",
        "    |'Saida Definitiva' >> beam.io.WriteToText(r'gs://dados_brutos_soulcode/saidaflow/teste.csv')\n",
        "    \n",
        ")\n",
        "p1.run()"
      ],
      "metadata": {
        "id": "1oi4mSMYOw5o"
      },
      "execution_count": null,
      "outputs": []
    }
  ]
}